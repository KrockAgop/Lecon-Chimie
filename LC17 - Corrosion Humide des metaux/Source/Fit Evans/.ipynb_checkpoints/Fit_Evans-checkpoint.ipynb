{
 "cells": [
  {
   "cell_type": "code",
   "execution_count": null,
   "metadata": {},
   "outputs": [],
   "source": [
    "import numpy as np\n",
    "import os\n",
    "from matplotlib import pyplot as plt\n",
    "from scipy.optimize import curve_fit\n"
   ]
  },
  {
   "cell_type": "code",
   "execution_count": null,
   "metadata": {},
   "outputs": [],
   "source": [
    "def my_round(X , DX) :\n",
    "    Ndecimal = np.int(np.ceil(np.abs(np.log10(DX))))\n",
    "    DX = np.around( DX , Ndecimal )\n",
    "    X = np.around( X , Ndecimal )\n",
    "    return X , DX\n",
    "\n",
    "def affine(x,a,b) :\n",
    "    return a * x + b\n",
    "\n",
    "def lineaire(x,a) :\n",
    "    return a * x"
   ]
  },
  {
   "cell_type": "markdown",
   "metadata": {},
   "source": [
    "##########################################################\n",
    "##########################################################\n",
    "##### 1ere partie Vitesse de corrosion a l abandon : \n",
    "##########################################################\n",
    "##########################################################"
   ]
  },
  {
   "cell_type": "code",
   "execution_count": null,
   "metadata": {},
   "outputs": [],
   "source": [
    "# Donnees exp : \n",
    "\n",
    "F = 96485\n",
    "Mmolzn = 65.4\n",
    "\n",
    "Minit = 34.8274 \n",
    "Mfinal = 34.8218\n",
    "t = 24 * 60 + 30 \n",
    "\n",
    "Merr = 0.0001\n",
    "terr = 1. \n",
    "\n",
    "# Calcul : \n",
    "\n",
    "DeltaM = Minit - Mfinal\n",
    "\n",
    "Vcorr = DeltaM / t \n",
    "\n",
    "icorr = 2 * (F/Mmolzn) * (DeltaM / t )\n",
    "\n",
    "# Propag incertitudes : \n",
    "\n",
    "DeltaMerr = np.sqrt(Merr**2 + Merr**2)\n",
    "\n",
    "Vcorrerr = Vcorr * np.sqrt((DeltaMerr/DeltaM)**2 + (terr/t)**2 )\n",
    "icorrerr = icorr * np.sqrt((DeltaMerr/DeltaM)**2 + (terr/t)**2 )\n",
    "\n",
    "VRseul, VRseulerr = my_round(Vcorr , Vcorrerr)\n",
    "iRseul, iRseulerr = my_round(icorr , icorrerr)\n",
    "\n",
    "\n",
    "\n",
    "print ('Vitesse de corrosion : '+str(VRseul)+' +/- '+str(VRseulerr)+' g/s' )\n",
    "print ('Courant de corrosion : '+str(iRseul)+' +/- '+str(iRseulerr)+' (A)' )\n",
    "\n"
   ]
  },
  {
   "cell_type": "code",
   "execution_count": null,
   "metadata": {},
   "outputs": [],
   "source": [
    "##########################################################\n",
    "##########################################################\n",
    "##### 2eme partie Vitesse de corrosion Fe/Zn : \n",
    "##########################################################\n",
    "##########################################################"
   ]
  },
  {
   "cell_type": "code",
   "execution_count": null,
   "metadata": {},
   "outputs": [],
   "source": [
    "ls -lrt"
   ]
  },
  {
   "cell_type": "code",
   "execution_count": null,
   "metadata": {},
   "outputs": [],
   "source": [
    "# Nom du catalogue\n",
    "cat = 'znfe.csv'"
   ]
  },
  {
   "cell_type": "code",
   "execution_count": null,
   "metadata": {},
   "outputs": [],
   "source": [
    "# Formatage du fichier csv le cas echeant : \n",
    "catinit= open(cat,'r').read()\n",
    "print (catinit)\n",
    "\n"
   ]
  },
  {
   "cell_type": "code",
   "execution_count": null,
   "metadata": {},
   "outputs": [],
   "source": [
    "catinit=catinit.replace(',',' ') #Delimiter \n",
    "#catinit=catinit.replace(',','.') #Virgule en point\n",
    "\n",
    "cat = open('rdy2go.txt','w')\n",
    "cat.write(catinit)\n",
    "cat.close()"
   ]
  },
  {
   "cell_type": "code",
   "execution_count": null,
   "metadata": {},
   "outputs": [],
   "source": [
    "# Lecture du fichier Formate \n",
    "Cat = np.genfromtxt('rdy2go.txt',dtype=[('i',np.float) , ('i_err',np.float) , ('Vzn',np.float) , ('Vzn_err',np.float) , ('Vfe',np.float) , ('Vfe_err',np.float) , ('R' , np.float) , ('R_err' , np.float)],skip_header=2)\n",
    "Cat = Cat[np.invert(Cat['i']==0.)] # On retire les i=0 pour eviter les problemes avec ln(i)\n",
    "Cat['i'] = Cat['i']/1000. # On passe de mA a A \n",
    "Cat['i_err'] = Cat['i_err']/1000. # On passe de mA a A "
   ]
  },
  {
   "cell_type": "code",
   "execution_count": null,
   "metadata": {},
   "outputs": [],
   "source": [
    "# Constante \n",
    "ECS = 0.2412"
   ]
  },
  {
   "cell_type": "code",
   "execution_count": null,
   "metadata": {},
   "outputs": [],
   "source": [
    "# Correction des potentiel : \n",
    "Cat['Vzn'] = Cat['Vzn'] - ECS\n",
    "Cat['Vfe'] = Cat['Vfe'] - ECS"
   ]
  },
  {
   "cell_type": "code",
   "execution_count": null,
   "metadata": {},
   "outputs": [],
   "source": [
    "# Preparation des array pour les fits : \n",
    "Vzn = Cat['Vzn']\n",
    "Vznerr = Cat['Vzn_err']\n",
    "lnizn = np.log( np.abs(Cat['i']) )\n",
    "lniznerr = Cat['i_err']/np.abs(Cat['i'])\n",
    "\n",
    "Vfe = Cat['Vfe']\n",
    "Vfeerr = Cat['Vfe_err']\n",
    "lnife = np.log( np.abs(Cat['i']) )\n",
    "lnifeerr = Cat['i_err']/np.abs(Cat['i'])\n"
   ]
  },
  {
   "cell_type": "code",
   "execution_count": null,
   "metadata": {},
   "outputs": [],
   "source": [
    "# Selection des domaines : \n",
    "%matplotlib notebook\n",
    "plt.figure()\n",
    "\n",
    "plt.xlabel('ln(|i|)')\n",
    "plt.ylabel('E (V)')\n",
    "\n",
    "plt.errorbar( lnizn , Vzn, xerr=lniznerr , yerr=Vznerr , color='tomato', fmt = 'o',markersize=4, label='Zn')\n",
    "plt.errorbar( lnife , Vfe, xerr=lnifeerr , yerr=Vfeerr , color='royalblue', fmt ='s',markersize=4, label='Fe')\n",
    "plt.legend()\n",
    "plt.show()\n"
   ]
  },
  {
   "cell_type": "code",
   "execution_count": null,
   "metadata": {},
   "outputs": [],
   "source": [
    "print('Pour le Zn : ')\n",
    "\n",
    "xminZn = np.float(input('Xmin '))\n",
    "xmaxZn = np.float(input('Xmax '))\n",
    "\n",
    "booli = lnizn>xminZn\n",
    "lnizn = lnizn[booli]\n",
    "lniznerr = lniznerr[booli]\n",
    "Vzn = Vzn[booli]\n",
    "Vznerr = Vznerr[booli]\n",
    "\n",
    "\n",
    "booli = lnizn<xmaxZn\n",
    "lnizn = lnizn[booli]\n",
    "lniznerr = lniznerr[booli]\n",
    "Vzn = Vzn[booli]\n",
    "Vznerr = Vznerr[booli]\n",
    "\n",
    "\n",
    "print('Pour le Fe : ')\n",
    "\n",
    "xminFe = np.float(input('Xmin '))\n",
    "xmaxFe = np.float(input('Xmax '))\n",
    "\n",
    "booli = lnife>xminFe\n",
    "lnife = lnife[booli]\n",
    "lnifeerr = lnifeerr[booli]\n",
    "Vfe = Vfe[booli]\n",
    "Vfeerr = Vfeerr[booli]\n",
    "\n",
    "booli = lnife<xmaxFe\n",
    "lnife = lnife[booli]\n",
    "lnifeerr = lnifeerr[booli]\n",
    "Vfe = Vfe[booli]\n",
    "Vfeerr = Vfeerr[booli]\n"
   ]
  },
  {
   "cell_type": "code",
   "execution_count": null,
   "metadata": {},
   "outputs": [],
   "source": [
    "# Regression lineaire : \n",
    "poptzn, pcovzn = curve_fit(affine , lnizn , Vzn, sigma = Vznerr) \n",
    "znerr = np.sqrt(np.diag(pcovzn))\n",
    "\n",
    "poptfe, pcovfe = curve_fit(affine , lnife , Vfe , sigma = Vznerr)\n",
    "ferr = np.sqrt(np.diag(pcovfe))\n"
   ]
  },
  {
   "cell_type": "code",
   "execution_count": null,
   "metadata": {},
   "outputs": [],
   "source": [
    "# Calcul Courant de corrosion et Potentiel Mixte (lnicorr ; icorr ; Em)\n",
    "\n",
    "lnicorr = (poptzn[1] - poptfe[1]) / (poptfe[0] - poptzn[0]) # Croisement des deux regressions\n",
    "Em = poptfe[0] * lnicorr  + poptfe[1]\n",
    "icorr = np.exp(lnicorr)\n",
    "vcorr = (Mmolzn/(2*F)) * icorr\n"
   ]
  },
  {
   "cell_type": "code",
   "execution_count": null,
   "metadata": {},
   "outputs": [],
   "source": [
    "# Incertitude et propagation : \n",
    "\n",
    "# En posant lni = A/B : \n",
    "A = (poptzn[1] - poptfe[1])\n",
    "DA = np.sqrt(ferr[1]**2 + znerr[1]**2)\n",
    "\n",
    "B = (poptfe[0] - poptzn[0])\n",
    "DB = np.sqrt(ferr[0]**2 + znerr[0]**2)\n",
    "\n",
    "Dlnicorr = lnicorr * np.sqrt( (DA/A)**2 + (DB/B)**2) ### Incertitude sur ln(icorr)\n",
    "\n",
    "Dicorr = np.abs(icorr) * np.abs(Dlnicorr) ### Incertitude de icorr\n",
    "\n",
    "Dvcorr = (Mmolzn/(2*F)) * Dicorr\n",
    "\n",
    "C = poptfe[0] * lnicorr\n",
    "DC = C * np.sqrt( (ferr[0]/poptfe[0])**2 + (Dlnicorr/lnicorr)**2  )\n",
    "\n",
    "DEm =  np.sqrt ( DC**2 + ferr[1]**2 ) ### Incertitude sur Em\n",
    "\n",
    "\n"
   ]
  },
  {
   "cell_type": "code",
   "execution_count": null,
   "metadata": {},
   "outputs": [],
   "source": [
    "####### Plot resultats : \n",
    "\n",
    "xmin = np.min([np.min(lnife),np.min(lnizn)])\n",
    "\n",
    "DeltaX = np.abs(lnicorr - xmin)\n",
    "\n",
    "X = np.arange(xmin-0.1*DeltaX , lnicorr + 0.3*DeltaX,0.1)\n",
    "\n",
    "plt.figure(2) \n",
    "\n",
    "plt.errorbar( lnife , Vfe, xerr=lnifeerr , yerr=Vfeerr , color='royalblue', fmt ='s',markersize=4, label='Fe')\n",
    "plt.plot( X , poptfe[0]*X + poptfe[1], 'royalblue')\n",
    "\n",
    "plt.errorbar( lnizn , Vzn, xerr=lniznerr , yerr=Vznerr , color='tomato', fmt = 'o',markersize=4, label='Zn')\n",
    "plt.plot( X , poptzn[0]*X + poptzn[1], 'tomato')\n",
    "\n",
    "\n",
    "ymin = np.min([np.min(poptfe[0]*X + poptfe[1]),np.min(poptzn[0]*X + poptzn[1])])\n",
    "ymax = np.max([np.max(poptfe[0]*X + poptfe[1]),np.max(poptzn[0]*X + poptzn[1])])\n",
    "\n",
    "plt.xlim(xmin-0.2*DeltaX , lnicorr + 0.4*DeltaX) \n",
    "\n",
    "DeltaY = ymax-ymin\n",
    "\n",
    "plt.ylim(ymin-0.1*DeltaY , ymax+0.1*DeltaY)\n",
    "\n",
    "print ('###############' )\n",
    "print (r'Em = '+str(Em)+' +/- '+str(DEm)+' (V)')\n",
    "print (r'ic = '+str(icorr)+' +/- '+str(Dicorr)+' (A)')\n",
    "\n",
    "EmR , DEmR = my_round(Em , DEm)\n",
    "icorrR , DicorrR = my_round(icorr , Dicorr)\n",
    "vcorrR , DvcorrR = my_round(vcorr , Dvcorr)\n",
    "\n",
    "ratio = np.int(np.ceil(vcorrR / VRseul))\n",
    "\n",
    "print (r'vc (lié) = '+str(vcorrR)+' +/- '+str(DvcorrR)+' (g/s)')\n",
    "print ('______________________________________________')\n",
    "print (r'vc (seul) = '+str(VRseul)+' +/- '+str(VRseulerr)+' (g/s)')\n",
    "print (r'ratio (vlie/vseul) ~ '+str(ratio))\n",
    "\n",
    "\n",
    "\n",
    "\n",
    "#if np.abs(ymax)>np.abs(ymin) : plt.ylim(0.9*ymin , 1.1*ymax)\n",
    "#else : plt.ylim(1.1*ymin , 0.9*ymax)\n",
    "\n",
    "plt.plot ([ xmin-0.2*DeltaX , lnicorr ] , [ Em , Em ], 'black', linestyle='dashed')\n",
    "plt.plot ([ lnicorr , lnicorr ] , [ ymin-0.1*DeltaY , Em ], 'black', linestyle='dashed')\n",
    "\n",
    "plt.text ( xmin ,Em  , r'$E_m = $'+str(EmR)+' +/- '+str(DEmR)+' V' , fontsize =16 )\n",
    "plt.text ( lnicorr ,ymin  , r'$|i_{corr}| = $'+str(icorrR)+' +/- '+str(DicorrR)+' A' , fontsize =16 )\n",
    "\n",
    "\n",
    "plt.xlabel(r'$ln\\, |i| \\ (A)$')\n",
    "plt.ylabel(r'$E\\ (V)$')\n",
    "plt.show()\n"
   ]
  },
  {
   "cell_type": "markdown",
   "metadata": {},
   "source": [
    "\n",
    "\n",
    "##########################################################\n",
    "##########################################################\n",
    "######    3 eme partie : Remonter a la resistance ########\n",
    "######          interne du circuit                ########\n",
    "##########################################################\n",
    "##########################################################\n"
   ]
  },
  {
   "cell_type": "code",
   "execution_count": null,
   "metadata": {},
   "outputs": [],
   "source": [
    "U = Cat['Vfe'] - Cat['Vzn'] - Cat['R']*Cat['i']\n",
    "# En posant C = R I \n",
    "\n",
    "Cat['R'][Cat['R']==0.] = 10**-6 # On enleve les R=0 pour eviter les / par 0\n",
    "DC = Cat['R']*Cat['i'] * np.sqrt( (Cat['R_err']/Cat['R'])**2 + (Cat['i_err']/Cat['i'])**2 )\n",
    "Uerr = np.sqrt(Cat['Vfe_err']**2 + Cat['Vzn_err']**2 + DC**2 )\n",
    "\n",
    "plt.figure()\n",
    "\n",
    "\n",
    "plt.errorbar( Cat['i'] , U, xerr=Cat['i_err'] , yerr=Uerr , color='royalblue', fmt ='o',markersize=4)\n",
    "\n",
    "poptR, pcovR = curve_fit(lineaire , Cat['i'] , U , sigma=Uerr )\n",
    "\n",
    "R = poptR[0]\n",
    "DR = np.sqrt(np.diag(pcovR))[0]\n",
    "\n",
    "Rr , DRr = my_round(R , DR)\n",
    "\n",
    "plt.plot(Cat['i'] , poptR[0] * Cat['i'], color = 'darkred') \n",
    "\n",
    "plt.xlabel(r'$i\\ (A)$')\n",
    "plt.ylabel(r'$U = V_{Fe} - V_{Zn} - R_{var} \\, i \\ = \\ R_{int} \\, i \\ (V)$')\n",
    "print ('###############')\n",
    "print (r'Rint = '+str(Rr)+' +/- '+str(DRr)+' (Ohm)')\n",
    "\n",
    "plt.show()"
   ]
  },
  {
   "cell_type": "code",
   "execution_count": null,
   "metadata": {},
   "outputs": [],
   "source": []
  },
  {
   "cell_type": "code",
   "execution_count": null,
   "metadata": {},
   "outputs": [],
   "source": []
  }
 ],
 "metadata": {
  "kernelspec": {
   "display_name": "Python 3",
   "language": "python",
   "name": "python3"
  },
  "language_info": {
   "codemirror_mode": {
    "name": "ipython",
    "version": 3
   },
   "file_extension": ".py",
   "mimetype": "text/x-python",
   "name": "python",
   "nbconvert_exporter": "python",
   "pygments_lexer": "ipython3",
   "version": "3.7.3"
  }
 },
 "nbformat": 4,
 "nbformat_minor": 2
}
